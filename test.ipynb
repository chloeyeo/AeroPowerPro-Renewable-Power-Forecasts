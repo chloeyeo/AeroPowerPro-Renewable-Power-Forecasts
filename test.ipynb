{
 "cells": [
  {
   "cell_type": "code",
   "execution_count": 2,
   "metadata": {},
   "outputs": [],
   "source": [
    "import csv\n",
    "import numpy as np"
   ]
  },
  {
   "cell_type": "code",
   "execution_count": 3,
   "metadata": {},
   "outputs": [],
   "source": [
    "class OpenCsvData:\n",
    "    def __init__(self, file_path) -> None:\n",
    "        with open(file_path) as file:\n",
    "            self.csvreader = csv.reader(file)\n",
    "            self.data = np.array([])\n",
    "            self.header = np.array(next(self.csvreader))\n",
    "            i = 0\n",
    "            for line in self.csvreader:\n",
    "                i += 1\n",
    "                self.data = np.append(self.data, np.array(line))\n",
    "            self.data = self.data.reshape(i, len(self.header))\n",
    "            print(\"Successful Get Data\")\n",
    "\n",
    "    def get_data(self):\n",
    "        return self.data"
   ]
  },
  {
   "cell_type": "code",
   "execution_count": 35,
   "metadata": {},
   "outputs": [],
   "source": [
    "from abc import ABC, abstractmethod"
   ]
  },
  {
   "cell_type": "code",
   "execution_count": 176,
   "metadata": {},
   "outputs": [],
   "source": [
    "class QueryGeneratorData(ABC):\n",
    "    def __init__(self, data) -> None:\n",
    "        self.data = data\n",
    "        \n",
    "    @abstractmethod\n",
    "    def get_longitude_from_id(self):\n",
    "        pass\n",
    "\n",
    "    def get_latitude_from_id(self):\n",
    "        pass"
   ]
  },
  {
   "cell_type": "code",
   "execution_count": 177,
   "metadata": {},
   "outputs": [
    {
     "name": "stdout",
     "output_type": "stream",
     "text": [
      "Successful Get Data\n"
     ]
    }
   ],
   "source": [
    "test = OpenCsvData(\"dictionary_attributes.csv\")\n",
    "data = test.get_data()"
   ]
  },
  {
   "cell_type": "code",
   "execution_count": 195,
   "metadata": {},
   "outputs": [],
   "source": [
    "class QueryWindTurbineData(QueryGeneratorData):\n",
    "    def __init__(self, data) -> None:\n",
    "        super().__init__(data)\n",
    "        self.bm_to_id = self.create_dict()\n",
    "\n",
    "    def check_bm_in_data(self, bm):\n",
    "        if(bm in self.bm_to_id.keys()):\n",
    "            return True\n",
    "        return False\n",
    "\n",
    "    def get_data_from_id(self, id):\n",
    "        return self.data[self.data[:, 6] == id]\n",
    "\n",
    "    def create_dict(self):\n",
    "        bm = self.data[self.data[:,2] == \"WIND\"][:, 1]\n",
    "        id = self.data[self.data[:,2] == \"WIND\"][:, 6]\n",
    "        return dict(zip(bm, id))\n",
    "\n",
    "    def get_id(self, bm):\n",
    "        if(self.check_bm_in_data(bm)):\n",
    "            return self.bm_to_id.get(bm)\n",
    "        print(\"No %s in the dataset\" % bm)\n",
    "        return\n",
    "\n",
    "    def get_longitude_from_id(self, id):\n",
    "        temp = self.get_data_from_id(id)\n",
    "        if(np.any(temp[:, 0] == \"Longitude\")):\n",
    "            return float(temp[temp[:, 0] == \"Longitude\"][0][2])\n",
    "        else:\n",
    "            print(\"No Longitude\")\n",
    "            return\n",
    "        \n",
    "    def get_latitude_from_id(self, id):\n",
    "        temp = self.get_data_from_id(id)\n",
    "        if(np.any(temp[:, 0] == \"Latitude\")):\n",
    "            return float(temp[temp[:, 0] == \"Latitude\"][0][2])\n",
    "        else:\n",
    "            print(\"No Latitude\")\n",
    "            return\n",
    "    \n",
    "    def get_number_turbine_from_id(self, id):\n",
    "        temp = self.get_data_from_id(id)\n",
    "        if(np.any(temp[:, 0] == 'No. of Turbines')):\n",
    "            return temp[temp[:, 0] == 'No. of Turbines'][:, 2].astype(float)\n",
    "        else:\n",
    "            print(\"No No. of Turbines\")\n",
    "            return\n",
    "        \n",
    "    def get_turbine_capacity_from_id(self, id):\n",
    "        temp = self.get_data_from_id(id)\n",
    "        if(np.any(temp[:, 0] == 'Turbine Capacity (MW)')):\n",
    "            return temp[temp[:, 0] == 'Turbine Capacity (MW)'][:,2].astype(float)\n",
    "        else:\n",
    "            print(\"No Turbine Capacity (MW)\")\n",
    "            return\n",
    "    \n",
    "    def get_plant_type_from_id(self, id):\n",
    "        temp = self.get_data_from_id(id)\n",
    "        if(np.any(temp[:, 0] == 'Plant Type')):\n",
    "            return temp[temp[:, 0] == 'Plant Type'][0][2]\n",
    "        else:\n",
    "            print(\"No Plant Type\")\n",
    "            return\n",
    "    \n",
    "    def get_hub_hight_from_id(self, id):\n",
    "        temp = self.get_data_from_id(id)\n",
    "        if(np.any(temp[:, 0] == 'Hub-Height')):\n",
    "            return float(temp[temp[:, 0] == 'Hub-Height'][0][2])\n",
    "        else:\n",
    "            print(\"No Hub-Height\")\n",
    "            return"
   ]
  },
  {
   "cell_type": "code",
   "execution_count": 196,
   "metadata": {},
   "outputs": [],
   "source": [
    "wind_query = QueryWindTurbineData(data)"
   ]
  },
  {
   "cell_type": "code",
   "execution_count": 204,
   "metadata": {},
   "outputs": [],
   "source": [
    "midmw_1 = wind_query.get_id(\"WDNSO-1\")"
   ]
  },
  {
   "cell_type": "code",
   "execution_count": 205,
   "metadata": {},
   "outputs": [
    {
     "data": {
      "text/plain": [
       "'10250'"
      ]
     },
     "execution_count": 205,
     "metadata": {},
     "output_type": "execute_result"
    }
   ],
   "source": [
    "midmw_1"
   ]
  },
  {
   "cell_type": "code",
   "execution_count": 206,
   "metadata": {},
   "outputs": [
    {
     "data": {
      "text/plain": [
       "53.923751"
      ]
     },
     "execution_count": 206,
     "metadata": {},
     "output_type": "execute_result"
    }
   ],
   "source": [
    "wind_query.get_latitude_from_id(midmw_1)"
   ]
  },
  {
   "cell_type": "code",
   "execution_count": 207,
   "metadata": {},
   "outputs": [
    {
     "data": {
      "text/plain": [
       "-3.768311"
      ]
     },
     "execution_count": 207,
     "metadata": {},
     "output_type": "execute_result"
    }
   ],
   "source": [
    "wind_query.get_longitude_from_id(midmw_1)"
   ]
  },
  {
   "cell_type": "code",
   "execution_count": 210,
   "metadata": {},
   "outputs": [
    {
     "data": {
      "text/plain": [
       "array([3.6])"
      ]
     },
     "execution_count": 210,
     "metadata": {},
     "output_type": "execute_result"
    }
   ],
   "source": [
    "wind_query.get_turbine_capacity_from_id(midmw_1)"
   ]
  },
  {
   "cell_type": "code",
   "execution_count": 202,
   "metadata": {},
   "outputs": [],
   "source": [
    "id1 = data[data[:, 1] == \"EAAO-1\"][0][6]\n",
    "id2 = data[data[:, 1] == \"WDRGW-1\"][0][6]"
   ]
  },
  {
   "cell_type": "code",
   "execution_count": 203,
   "metadata": {},
   "outputs": [
    {
     "data": {
      "text/plain": [
       "array(['Fuel Type', 'Fuel Type', 'Longitude', 'Latitude', 'Plant Type',\n",
       "       'Hub-Height', 'Operator (or Applicant)', 'Site Name',\n",
       "       'Technology Type', 'Installed Capacity (MWelec)',\n",
       "       'Turbine Capacity (MW)', 'No. of Turbines',\n",
       "       'Height of Turbines (m)', 'Development Status', 'Address',\n",
       "       'County', 'Region', 'Country', 'X-coordinate', 'Y-coordinate',\n",
       "       'Planning Authority', 'Offshore Wind Round', 'Allocation Round',\n",
       "       'Allocation Round', 'Allocation Round',\n",
       "       'Maximum Contract Capacity (MW)', 'Maximum Contract Capacity (MW)',\n",
       "       'Maximum Contract Capacity (MW)', 'Name of CfD Unit',\n",
       "       'Name of CfD Unit', 'Name of CfD Unit', 'Status', 'Status',\n",
       "       'Status', 'Technology Type', 'Technology Type', 'Technology Type',\n",
       "       'Transmission or Distribution Connection',\n",
       "       'Transmission or Distribution Connection',\n",
       "       'Transmission or Distribution Connection',\n",
       "       'Strike Price (GBP/MWh)'], dtype='<U149')"
      ]
     },
     "execution_count": 203,
     "metadata": {},
     "output_type": "execute_result"
    }
   ],
   "source": [
    "data[data[:, 6] == \"10306\"][:, 0]"
   ]
  },
  {
   "cell_type": "code",
   "execution_count": 30,
   "metadata": {},
   "outputs": [],
   "source": [
    "test = data[data[:, 6] == id1]"
   ]
  },
  {
   "cell_type": "code",
   "execution_count": 34,
   "metadata": {},
   "outputs": [
    {
     "data": {
      "text/plain": [
       "array([['Fuel Type', 'EAAO-1', 'WIND',\n",
       "        'https://raw.githubusercontent.com/OSUKED/Dictionary-Datasets/main/datasets/bmu-fuel-types/datapackage.json',\n",
       "        'ngc_bmu_id', '', '10300', ''],\n",
       "       ['Fuel Type', 'EAAO-2', 'WIND',\n",
       "        'https://raw.githubusercontent.com/OSUKED/Dictionary-Datasets/main/datasets/bmu-fuel-types/datapackage.json',\n",
       "        'ngc_bmu_id', '', '10300', ''],\n",
       "       ['Longitude', '10300', '2.499',\n",
       "        'https://raw.githubusercontent.com/OSUKED/Dictionary-Datasets/main/datasets/plant-locations/datapackage.json',\n",
       "        'dictionary_id', '', '10300', ''],\n",
       "       ['Latitude', '10300', '52.233',\n",
       "        'https://raw.githubusercontent.com/OSUKED/Dictionary-Datasets/main/datasets/plant-locations/datapackage.json',\n",
       "        'dictionary_id', '', '10300', ''],\n",
       "       ['Plant Type', '10300', 'offshore',\n",
       "        'https://raw.githubusercontent.com/OSUKED/Dictionary-Datasets/main/datasets/wind-farms/datapackage.json',\n",
       "        'dictionary_id', '', '10300', ''],\n",
       "       ['Hub-Height', '10300', '120.0',\n",
       "        'https://raw.githubusercontent.com/OSUKED/Dictionary-Datasets/main/datasets/wind-farms/datapackage.json',\n",
       "        'dictionary_id', '', '10300', ''],\n",
       "       ['Annual Output (MWh)', 'EAAO-1', '0.0',\n",
       "        'https://raw.githubusercontent.com/OSUKED/Dictionary-Datasets/main/datasets/annual-output/datapackage.json',\n",
       "        'ngc_bmu_id', '2016', '10300', ''],\n",
       "       ['Annual Output (MWh)', 'EAAO-2', '0.0',\n",
       "        'https://raw.githubusercontent.com/OSUKED/Dictionary-Datasets/main/datasets/annual-output/datapackage.json',\n",
       "        'ngc_bmu_id', '2016', '10300', ''],\n",
       "       ['Annual Output (MWh)', 'EAAO-1', '0.0',\n",
       "        'https://raw.githubusercontent.com/OSUKED/Dictionary-Datasets/main/datasets/annual-output/datapackage.json',\n",
       "        'ngc_bmu_id', '2017', '10300', ''],\n",
       "       ['Annual Output (MWh)', 'EAAO-2', '0.0',\n",
       "        'https://raw.githubusercontent.com/OSUKED/Dictionary-Datasets/main/datasets/annual-output/datapackage.json',\n",
       "        'ngc_bmu_id', '2017', '10300', ''],\n",
       "       ['Annual Output (MWh)', 'EAAO-1', '0.0',\n",
       "        'https://raw.githubusercontent.com/OSUKED/Dictionary-Datasets/main/datasets/annual-output/datapackage.json',\n",
       "        'ngc_bmu_id', '2018', '10300', ''],\n",
       "       ['Annual Output (MWh)', 'EAAO-2', '0.0',\n",
       "        'https://raw.githubusercontent.com/OSUKED/Dictionary-Datasets/main/datasets/annual-output/datapackage.json',\n",
       "        'ngc_bmu_id', '2018', '10300', ''],\n",
       "       ['Annual Output (MWh)', 'EAAO-1', '185800.091',\n",
       "        'https://raw.githubusercontent.com/OSUKED/Dictionary-Datasets/main/datasets/annual-output/datapackage.json',\n",
       "        'ngc_bmu_id', '2019', '10300', ''],\n",
       "       ['Annual Output (MWh)', 'EAAO-2', '31.618',\n",
       "        'https://raw.githubusercontent.com/OSUKED/Dictionary-Datasets/main/datasets/annual-output/datapackage.json',\n",
       "        'ngc_bmu_id', '2019', '10300', ''],\n",
       "       ['Annual Output (MWh)', 'EAAO-1', '1252092.416',\n",
       "        'https://raw.githubusercontent.com/OSUKED/Dictionary-Datasets/main/datasets/annual-output/datapackage.json',\n",
       "        'ngc_bmu_id', '2020', '10300', ''],\n",
       "       ['Annual Output (MWh)', 'EAAO-2', '949133.391',\n",
       "        'https://raw.githubusercontent.com/OSUKED/Dictionary-Datasets/main/datasets/annual-output/datapackage.json',\n",
       "        'ngc_bmu_id', '2020', '10300', ''],\n",
       "       ['Capture Price (Â£/MWh)', 'EAAO-1', '37.10436288346423',\n",
       "        'https://raw.githubusercontent.com/OSUKED/Dictionary-Datasets/main/datasets/capture-prices/datapackage.json',\n",
       "        'ngc_bmu_id', '2019', '10300', ''],\n",
       "       ['Capture Price (Â£/MWh)', 'EAAO-2', '38.10498396570884',\n",
       "        'https://raw.githubusercontent.com/OSUKED/Dictionary-Datasets/main/datasets/capture-prices/datapackage.json',\n",
       "        'ngc_bmu_id', '2019', '10300', ''],\n",
       "       ['Capture Price (Â£/MWh)', 'EAAO-1', '32.496203880847574',\n",
       "        'https://raw.githubusercontent.com/OSUKED/Dictionary-Datasets/main/datasets/capture-prices/datapackage.json',\n",
       "        'ngc_bmu_id', '2020', '10300', ''],\n",
       "       ['Capture Price (Â£/MWh)', 'EAAO-2', '33.33422471843948',\n",
       "        'https://raw.githubusercontent.com/OSUKED/Dictionary-Datasets/main/datasets/capture-prices/datapackage.json',\n",
       "        'ngc_bmu_id', '2020', '10300', ''],\n",
       "       ['Load Factor', 'EAAO-1', '0.12496129934313405',\n",
       "        'https://raw.githubusercontent.com/OSUKED/Dictionary-Datasets/main/datasets/load-factors/datapackage.json',\n",
       "        'ngc_bmu_id', '2019', '10300', ''],\n",
       "       ['Load Factor', 'EAAO-2', '0.00003225303049803027',\n",
       "        'https://raw.githubusercontent.com/OSUKED/Dictionary-Datasets/main/datasets/load-factors/datapackage.json',\n",
       "        'ngc_bmu_id', '2019', '10300', ''],\n",
       "       ['Load Factor', 'EAAO-1', '0.41528575638056575',\n",
       "        'https://raw.githubusercontent.com/OSUKED/Dictionary-Datasets/main/datasets/load-factors/datapackage.json',\n",
       "        'ngc_bmu_id', '2020', '10300', ''],\n",
       "       ['Load Factor', 'EAAO-2', '0.369409269714706',\n",
       "        'https://raw.githubusercontent.com/OSUKED/Dictionary-Datasets/main/datasets/load-factors/datapackage.json',\n",
       "        'ngc_bmu_id', '2020', '10300', ''],\n",
       "       ['Load Factor', 'EAAO-1', '0.5352977002766471',\n",
       "        'https://raw.githubusercontent.com/OSUKED/Dictionary-Datasets/main/datasets/load-factors/datapackage.json',\n",
       "        'ngc_bmu_id', '2021', '10300', ''],\n",
       "       ['Load Factor', 'EAAO-2', '0.539031227161547',\n",
       "        'https://raw.githubusercontent.com/OSUKED/Dictionary-Datasets/main/datasets/load-factors/datapackage.json',\n",
       "        'ngc_bmu_id', '2021', '10300', ''],\n",
       "       ['Address', '2470',\n",
       "        'East Anglia Offshore Wind Three, Underground Cabling Between Bramford And Bawdsey, Lowestoft',\n",
       "        'https://raw.githubusercontent.com/OSUKED/Dictionary-Datasets/main/datasets/renewable-energy-planning-database/datapackage.json',\n",
       "        'new_repd_id', '', '10300', ''],\n",
       "       ['Address', '2484', 'North Sea, off the East Anglia coast',\n",
       "        'https://raw.githubusercontent.com/OSUKED/Dictionary-Datasets/main/datasets/renewable-energy-planning-database/datapackage.json',\n",
       "        'new_repd_id', '', '10300', ''],\n",
       "       ['Address', '6483', 'North Sea, off the East Anglia coast',\n",
       "        'https://raw.githubusercontent.com/OSUKED/Dictionary-Datasets/main/datasets/renewable-energy-planning-database/datapackage.json',\n",
       "        'new_repd_id', '', '10300', ''],\n",
       "       ['CfD Capacity (MW)', '2470', 'NaN',\n",
       "        'https://raw.githubusercontent.com/OSUKED/Dictionary-Datasets/main/datasets/renewable-energy-planning-database/datapackage.json',\n",
       "        'new_repd_id', '', '10300', ''],\n",
       "       ['CfD Capacity (MW)', '2484', 'NaN',\n",
       "        'https://raw.githubusercontent.com/OSUKED/Dictionary-Datasets/main/datasets/renewable-energy-planning-database/datapackage.json',\n",
       "        'new_repd_id', '', '10300', ''],\n",
       "       ['CfD Capacity (MW)', '2525', '1200.0',\n",
       "        'https://raw.githubusercontent.com/OSUKED/Dictionary-Datasets/main/datasets/renewable-energy-planning-database/datapackage.json',\n",
       "        'new_repd_id', '', '10300', ''],\n",
       "       ['CfD Capacity (MW)', '6483', 'NaN',\n",
       "        'https://raw.githubusercontent.com/OSUKED/Dictionary-Datasets/main/datasets/renewable-energy-planning-database/datapackage.json',\n",
       "        'new_repd_id', '', '10300', ''],\n",
       "       ['Country', '2470', 'England',\n",
       "        'https://raw.githubusercontent.com/OSUKED/Dictionary-Datasets/main/datasets/renewable-energy-planning-database/datapackage.json',\n",
       "        'new_repd_id', '', '10300', ''],\n",
       "       ['Country', '2484', 'England',\n",
       "        'https://raw.githubusercontent.com/OSUKED/Dictionary-Datasets/main/datasets/renewable-energy-planning-database/datapackage.json',\n",
       "        'new_repd_id', '', '10300', ''],\n",
       "       ['Country', '2525', 'England',\n",
       "        'https://raw.githubusercontent.com/OSUKED/Dictionary-Datasets/main/datasets/renewable-energy-planning-database/datapackage.json',\n",
       "        'new_repd_id', '', '10300', ''],\n",
       "       ['Country', '6483', 'England',\n",
       "        'https://raw.githubusercontent.com/OSUKED/Dictionary-Datasets/main/datasets/renewable-energy-planning-database/datapackage.json',\n",
       "        'new_repd_id', '', '10300', ''],\n",
       "       ['County', '2470', 'Offshore',\n",
       "        'https://raw.githubusercontent.com/OSUKED/Dictionary-Datasets/main/datasets/renewable-energy-planning-database/datapackage.json',\n",
       "        'new_repd_id', '', '10300', ''],\n",
       "       ['County', '2484', 'Offshore',\n",
       "        'https://raw.githubusercontent.com/OSUKED/Dictionary-Datasets/main/datasets/renewable-energy-planning-database/datapackage.json',\n",
       "        'new_repd_id', '', '10300', ''],\n",
       "       ['County', '2525', 'Offshore',\n",
       "        'https://raw.githubusercontent.com/OSUKED/Dictionary-Datasets/main/datasets/renewable-energy-planning-database/datapackage.json',\n",
       "        'new_repd_id', '', '10300', ''],\n",
       "       ['County', '6483', 'Offshore',\n",
       "        'https://raw.githubusercontent.com/OSUKED/Dictionary-Datasets/main/datasets/renewable-energy-planning-database/datapackage.json',\n",
       "        'new_repd_id', '', '10300', ''],\n",
       "       ['Development Status', '2470', 'Planning Permission Granted',\n",
       "        'https://raw.githubusercontent.com/OSUKED/Dictionary-Datasets/main/datasets/renewable-energy-planning-database/datapackage.json',\n",
       "        'new_repd_id', '', '10300', ''],\n",
       "       ['Development Status', '2484', 'Planning Permission Granted',\n",
       "        'https://raw.githubusercontent.com/OSUKED/Dictionary-Datasets/main/datasets/renewable-energy-planning-database/datapackage.json',\n",
       "        'new_repd_id', '', '10300', ''],\n",
       "       ['Development Status', '2525', 'Operational',\n",
       "        'https://raw.githubusercontent.com/OSUKED/Dictionary-Datasets/main/datasets/renewable-energy-planning-database/datapackage.json',\n",
       "        'new_repd_id', '', '10300', ''],\n",
       "       ['Development Status', '6483', 'Planning Application Submitted',\n",
       "        'https://raw.githubusercontent.com/OSUKED/Dictionary-Datasets/main/datasets/renewable-energy-planning-database/datapackage.json',\n",
       "        'new_repd_id', '', '10300', ''],\n",
       "       ['Height of Turbines (m)', '2470', '247.0',\n",
       "        'https://raw.githubusercontent.com/OSUKED/Dictionary-Datasets/main/datasets/renewable-energy-planning-database/datapackage.json',\n",
       "        'new_repd_id', '', '10300', ''],\n",
       "       ['Height of Turbines (m)', '2484', '350.0',\n",
       "        'https://raw.githubusercontent.com/OSUKED/Dictionary-Datasets/main/datasets/renewable-energy-planning-database/datapackage.json',\n",
       "        'new_repd_id', '', '10300', ''],\n",
       "       ['Height of Turbines (m)', '2525', 'NaN',\n",
       "        'https://raw.githubusercontent.com/OSUKED/Dictionary-Datasets/main/datasets/renewable-energy-planning-database/datapackage.json',\n",
       "        'new_repd_id', '', '10300', ''],\n",
       "       ['Height of Turbines (m)', '6483', 'NaN',\n",
       "        'https://raw.githubusercontent.com/OSUKED/Dictionary-Datasets/main/datasets/renewable-energy-planning-database/datapackage.json',\n",
       "        'new_repd_id', '', '10300', ''],\n",
       "       ['Installed Capacity (MWelec)', '2470', '1400.0',\n",
       "        'https://raw.githubusercontent.com/OSUKED/Dictionary-Datasets/main/datasets/renewable-energy-planning-database/datapackage.json',\n",
       "        'new_repd_id', '', '10300', ''],\n",
       "       ['Installed Capacity (MWelec)', '2484', '1800.0',\n",
       "        'https://raw.githubusercontent.com/OSUKED/Dictionary-Datasets/main/datasets/renewable-energy-planning-database/datapackage.json',\n",
       "        'new_repd_id', '', '10300', ''],\n",
       "       ['Installed Capacity (MWelec)', '2525', '1200.0',\n",
       "        'https://raw.githubusercontent.com/OSUKED/Dictionary-Datasets/main/datasets/renewable-energy-planning-database/datapackage.json',\n",
       "        'new_repd_id', '', '10300', ''],\n",
       "       ['Installed Capacity (MWelec)', '6483', '1800.0',\n",
       "        'https://raw.githubusercontent.com/OSUKED/Dictionary-Datasets/main/datasets/renewable-energy-planning-database/datapackage.json',\n",
       "        'new_repd_id', '', '10300', ''],\n",
       "       ['No. of Turbines', '2470', '172.0',\n",
       "        'https://raw.githubusercontent.com/OSUKED/Dictionary-Datasets/main/datasets/renewable-energy-planning-database/datapackage.json',\n",
       "        'new_repd_id', '', '10300', ''],\n",
       "       ['No. of Turbines', '2484', '158.0',\n",
       "        'https://raw.githubusercontent.com/OSUKED/Dictionary-Datasets/main/datasets/renewable-energy-planning-database/datapackage.json',\n",
       "        'new_repd_id', '', '10300', ''],\n",
       "       ['No. of Turbines', '2525', '174.0',\n",
       "        'https://raw.githubusercontent.com/OSUKED/Dictionary-Datasets/main/datasets/renewable-energy-planning-database/datapackage.json',\n",
       "        'new_repd_id', '', '10300', ''],\n",
       "       ['No. of Turbines', '6483', '360.0',\n",
       "        'https://raw.githubusercontent.com/OSUKED/Dictionary-Datasets/main/datasets/renewable-energy-planning-database/datapackage.json',\n",
       "        'new_repd_id', '', '10300', ''],\n",
       "       ['Offshore Wind Round', '2470', '3',\n",
       "        'https://raw.githubusercontent.com/OSUKED/Dictionary-Datasets/main/datasets/renewable-energy-planning-database/datapackage.json',\n",
       "        'new_repd_id', '', '10300', ''],\n",
       "       ['Offshore Wind Round', '2484', '3',\n",
       "        'https://raw.githubusercontent.com/OSUKED/Dictionary-Datasets/main/datasets/renewable-energy-planning-database/datapackage.json',\n",
       "        'new_repd_id', '', '10300', ''],\n",
       "       ['Offshore Wind Round', '2525', '3',\n",
       "        'https://raw.githubusercontent.com/OSUKED/Dictionary-Datasets/main/datasets/renewable-energy-planning-database/datapackage.json',\n",
       "        'new_repd_id', '', '10300', ''],\n",
       "       ['Operator (or Applicant)', '2470',\n",
       "        'Scottish Power Renewables/Vattenfall/OPR',\n",
       "        'https://raw.githubusercontent.com/OSUKED/Dictionary-Datasets/main/datasets/renewable-energy-planning-database/datapackage.json',\n",
       "        'new_repd_id', '', '10300', ''],\n",
       "       ['Operator (or Applicant)', '2484',\n",
       "        'Vattenfall/Scottish Power Renewables',\n",
       "        'https://raw.githubusercontent.com/OSUKED/Dictionary-Datasets/main/datasets/renewable-energy-planning-database/datapackage.json',\n",
       "        'new_repd_id', '', '10300', ''],\n",
       "       ['Operator (or Applicant)', '2525',\n",
       "        'Orsted (formerly Dong Energy)',\n",
       "        'https://raw.githubusercontent.com/OSUKED/Dictionary-Datasets/main/datasets/renewable-energy-planning-database/datapackage.json',\n",
       "        'new_repd_id', '', '10300', ''],\n",
       "       ['Operator (or Applicant)', '6483',\n",
       "        'Vattenfall/Scottish Power Renewables',\n",
       "        'https://raw.githubusercontent.com/OSUKED/Dictionary-Datasets/main/datasets/renewable-energy-planning-database/datapackage.json',\n",
       "        'new_repd_id', '', '10300', ''],\n",
       "       ['Planning Application Reference', '2470', 'EN010056',\n",
       "        'https://raw.githubusercontent.com/OSUKED/Dictionary-Datasets/main/datasets/renewable-energy-planning-database/datapackage.json',\n",
       "        'new_repd_id', '', '10300', ''],\n",
       "       ['Planning Authority', '2470', 'DECC (S36)',\n",
       "        'https://raw.githubusercontent.com/OSUKED/Dictionary-Datasets/main/datasets/renewable-energy-planning-database/datapackage.json',\n",
       "        'new_repd_id', '', '10300', ''],\n",
       "       ['Planning Authority', '2484', 'DECC (S36)',\n",
       "        'https://raw.githubusercontent.com/OSUKED/Dictionary-Datasets/main/datasets/renewable-energy-planning-database/datapackage.json',\n",
       "        'new_repd_id', '', '10300', ''],\n",
       "       ['Planning Authority', '2525', 'DECC (S36)',\n",
       "        'https://raw.githubusercontent.com/OSUKED/Dictionary-Datasets/main/datasets/renewable-energy-planning-database/datapackage.json',\n",
       "        'new_repd_id', '', '10300', ''],\n",
       "       ['Planning Authority', '6483',\n",
       "        'The Planning Inspectorate - National Infrastructure',\n",
       "        'https://raw.githubusercontent.com/OSUKED/Dictionary-Datasets/main/datasets/renewable-energy-planning-database/datapackage.json',\n",
       "        'new_repd_id', '', '10300', ''],\n",
       "       ['Region', '2470', 'Offshore',\n",
       "        'https://raw.githubusercontent.com/OSUKED/Dictionary-Datasets/main/datasets/renewable-energy-planning-database/datapackage.json',\n",
       "        'new_repd_id', '', '10300', ''],\n",
       "       ['Region', '2484', 'Offshore',\n",
       "        'https://raw.githubusercontent.com/OSUKED/Dictionary-Datasets/main/datasets/renewable-energy-planning-database/datapackage.json',\n",
       "        'new_repd_id', '', '10300', ''],\n",
       "       ['Region', '2525', 'Offshore',\n",
       "        'https://raw.githubusercontent.com/OSUKED/Dictionary-Datasets/main/datasets/renewable-energy-planning-database/datapackage.json',\n",
       "        'new_repd_id', '', '10300', ''],\n",
       "       ['Region', '6483', 'Offshore',\n",
       "        'https://raw.githubusercontent.com/OSUKED/Dictionary-Datasets/main/datasets/renewable-energy-planning-database/datapackage.json',\n",
       "        'new_repd_id', '', '10300', ''],\n",
       "       ['Site Name', '2470', 'East Anglia 3 (EA 3)',\n",
       "        'https://raw.githubusercontent.com/OSUKED/Dictionary-Datasets/main/datasets/renewable-energy-planning-database/datapackage.json',\n",
       "        'new_repd_id', '', '10300', ''],\n",
       "       ['Site Name', '2484', 'The East Anglia Array - Norfolk Vanguard',\n",
       "        'https://raw.githubusercontent.com/OSUKED/Dictionary-Datasets/main/datasets/renewable-energy-planning-database/datapackage.json',\n",
       "        'new_repd_id', '', '10300', ''],\n",
       "       ['Site Name', '2525', 'Hornsea 1 - Heron & Njord',\n",
       "        'https://raw.githubusercontent.com/OSUKED/Dictionary-Datasets/main/datasets/renewable-energy-planning-database/datapackage.json',\n",
       "        'new_repd_id', '', '10300', ''],\n",
       "       ['Site Name', '6483', 'The East Anglia Array - Norfolk Boreas',\n",
       "        'https://raw.githubusercontent.com/OSUKED/Dictionary-Datasets/main/datasets/renewable-energy-planning-database/datapackage.json',\n",
       "        'new_repd_id', '', '10300', ''],\n",
       "       ['Technology Type', '2470', 'Wind Offshore',\n",
       "        'https://raw.githubusercontent.com/OSUKED/Dictionary-Datasets/main/datasets/renewable-energy-planning-database/datapackage.json',\n",
       "        'new_repd_id', '', '10300', ''],\n",
       "       ['Technology Type', '2484', 'Wind Offshore',\n",
       "        'https://raw.githubusercontent.com/OSUKED/Dictionary-Datasets/main/datasets/renewable-energy-planning-database/datapackage.json',\n",
       "        'new_repd_id', '', '10300', ''],\n",
       "       ['Technology Type', '2525', 'Wind Offshore',\n",
       "        'https://raw.githubusercontent.com/OSUKED/Dictionary-Datasets/main/datasets/renewable-energy-planning-database/datapackage.json',\n",
       "        'new_repd_id', '', '10300', ''],\n",
       "       ['Technology Type', '6483', 'Wind Offshore',\n",
       "        'https://raw.githubusercontent.com/OSUKED/Dictionary-Datasets/main/datasets/renewable-energy-planning-database/datapackage.json',\n",
       "        'new_repd_id', '', '10300', ''],\n",
       "       ['Turbine Capacity (MW)', '2470', '7.0',\n",
       "        'https://raw.githubusercontent.com/OSUKED/Dictionary-Datasets/main/datasets/renewable-energy-planning-database/datapackage.json',\n",
       "        'new_repd_id', '', '10300', ''],\n",
       "       ['Turbine Capacity (MW)', '2484', '11.39',\n",
       "        'https://raw.githubusercontent.com/OSUKED/Dictionary-Datasets/main/datasets/renewable-energy-planning-database/datapackage.json',\n",
       "        'new_repd_id', '', '10300', ''],\n",
       "       ['Turbine Capacity (MW)', '2525', '7.0',\n",
       "        'https://raw.githubusercontent.com/OSUKED/Dictionary-Datasets/main/datasets/renewable-energy-planning-database/datapackage.json',\n",
       "        'new_repd_id', '', '10300', ''],\n",
       "       ['Turbine Capacity (MW)', '6483', '5.0',\n",
       "        'https://raw.githubusercontent.com/OSUKED/Dictionary-Datasets/main/datasets/renewable-energy-planning-database/datapackage.json',\n",
       "        'new_repd_id', '', '10300', ''],\n",
       "       ['X-coordinate', '2470', '685500',\n",
       "        'https://raw.githubusercontent.com/OSUKED/Dictionary-Datasets/main/datasets/renewable-energy-planning-database/datapackage.json',\n",
       "        'new_repd_id', '', '10300', ''],\n",
       "       ['X-coordinate', '2484', '708047',\n",
       "        'https://raw.githubusercontent.com/OSUKED/Dictionary-Datasets/main/datasets/renewable-energy-planning-database/datapackage.json',\n",
       "        'new_repd_id', '', '10300', ''],\n",
       "       ['X-coordinate', '2525', '626000',\n",
       "        'https://raw.githubusercontent.com/OSUKED/Dictionary-Datasets/main/datasets/renewable-energy-planning-database/datapackage.json',\n",
       "        'new_repd_id', '', '10300', ''],\n",
       "       ['X-coordinate', '6483', '708047',\n",
       "        'https://raw.githubusercontent.com/OSUKED/Dictionary-Datasets/main/datasets/renewable-energy-planning-database/datapackage.json',\n",
       "        'new_repd_id', '', '10300', ''],\n",
       "       ['Y-coordinate', '2470', '257000',\n",
       "        'https://raw.githubusercontent.com/OSUKED/Dictionary-Datasets/main/datasets/renewable-energy-planning-database/datapackage.json',\n",
       "        'new_repd_id', '', '10300', ''],\n",
       "       ['Y-coordinate', '2484', '312194',\n",
       "        'https://raw.githubusercontent.com/OSUKED/Dictionary-Datasets/main/datasets/renewable-energy-planning-database/datapackage.json',\n",
       "        'new_repd_id', '', '10300', ''],\n",
       "       ['Y-coordinate', '2525', '426000',\n",
       "        'https://raw.githubusercontent.com/OSUKED/Dictionary-Datasets/main/datasets/renewable-energy-planning-database/datapackage.json',\n",
       "        'new_repd_id', '', '10300', ''],\n",
       "       ['Y-coordinate', '6483', '312194',\n",
       "        'https://raw.githubusercontent.com/OSUKED/Dictionary-Datasets/main/datasets/renewable-energy-planning-database/datapackage.json',\n",
       "        'new_repd_id', '', '10300', ''],\n",
       "       ['Allocation Round', 'CAA-EAS-166', 'Allocation Round 1',\n",
       "        'https://raw.githubusercontent.com/OSUKED/Dictionary-Datasets/main/datasets/cfd-contract-portfolio-status/datapackage.json',\n",
       "        'cfd_id', '', '10300', ''],\n",
       "       ['Allocation Round', 'CAA-EAS-167', 'Allocation Round 1',\n",
       "        'https://raw.githubusercontent.com/OSUKED/Dictionary-Datasets/main/datasets/cfd-contract-portfolio-status/datapackage.json',\n",
       "        'cfd_id', '', '10300', ''],\n",
       "       ['Allocation Round', 'CAA-EAS-168', 'Allocation Round 1',\n",
       "        'https://raw.githubusercontent.com/OSUKED/Dictionary-Datasets/main/datasets/cfd-contract-portfolio-status/datapackage.json',\n",
       "        'cfd_id', '', '10300', ''],\n",
       "       ['Maximum Contract Capacity (MW)', 'CAA-EAS-166', '172.786',\n",
       "        'https://raw.githubusercontent.com/OSUKED/Dictionary-Datasets/main/datasets/cfd-contract-portfolio-status/datapackage.json',\n",
       "        'cfd_id', '', '10300', ''],\n",
       "       ['Maximum Contract Capacity (MW)', 'CAA-EAS-167', '283.369',\n",
       "        'https://raw.githubusercontent.com/OSUKED/Dictionary-Datasets/main/datasets/cfd-contract-portfolio-status/datapackage.json',\n",
       "        'cfd_id', '', '10300', ''],\n",
       "       ['Maximum Contract Capacity (MW)', 'CAA-EAS-168', '248.812',\n",
       "        'https://raw.githubusercontent.com/OSUKED/Dictionary-Datasets/main/datasets/cfd-contract-portfolio-status/datapackage.json',\n",
       "        'cfd_id', '', '10300', ''],\n",
       "       ['Name of CfD Unit', 'CAA-EAS-166', 'EA 1 Phase 1',\n",
       "        'https://raw.githubusercontent.com/OSUKED/Dictionary-Datasets/main/datasets/cfd-contract-portfolio-status/datapackage.json',\n",
       "        'cfd_id', '', '10300', ''],\n",
       "       ['Name of CfD Unit', 'CAA-EAS-167', 'EA 1 Phase 2',\n",
       "        'https://raw.githubusercontent.com/OSUKED/Dictionary-Datasets/main/datasets/cfd-contract-portfolio-status/datapackage.json',\n",
       "        'cfd_id', '', '10300', ''],\n",
       "       ['Name of CfD Unit', 'CAA-EAS-168', 'EA 1 Phase 3',\n",
       "        'https://raw.githubusercontent.com/OSUKED/Dictionary-Datasets/main/datasets/cfd-contract-portfolio-status/datapackage.json',\n",
       "        'cfd_id', '', '10300', ''],\n",
       "       ['Status', 'CAA-EAS-166', 'Post-Start Date',\n",
       "        'https://raw.githubusercontent.com/OSUKED/Dictionary-Datasets/main/datasets/cfd-contract-portfolio-status/datapackage.json',\n",
       "        'cfd_id', '', '10300', ''],\n",
       "       ['Status', 'CAA-EAS-167', 'Post-Start Date',\n",
       "        'https://raw.githubusercontent.com/OSUKED/Dictionary-Datasets/main/datasets/cfd-contract-portfolio-status/datapackage.json',\n",
       "        'cfd_id', '', '10300', ''],\n",
       "       ['Status', 'CAA-EAS-168', 'Post-Start Date',\n",
       "        'https://raw.githubusercontent.com/OSUKED/Dictionary-Datasets/main/datasets/cfd-contract-portfolio-status/datapackage.json',\n",
       "        'cfd_id', '', '10300', ''],\n",
       "       ['Technology Type', 'CAA-EAS-166', 'Offshore Wind',\n",
       "        'https://raw.githubusercontent.com/OSUKED/Dictionary-Datasets/main/datasets/cfd-contract-portfolio-status/datapackage.json',\n",
       "        'cfd_id', '', '10300', ''],\n",
       "       ['Technology Type', 'CAA-EAS-167', 'Offshore Wind',\n",
       "        'https://raw.githubusercontent.com/OSUKED/Dictionary-Datasets/main/datasets/cfd-contract-portfolio-status/datapackage.json',\n",
       "        'cfd_id', '', '10300', ''],\n",
       "       ['Technology Type', 'CAA-EAS-168', 'Offshore Wind',\n",
       "        'https://raw.githubusercontent.com/OSUKED/Dictionary-Datasets/main/datasets/cfd-contract-portfolio-status/datapackage.json',\n",
       "        'cfd_id', '', '10300', ''],\n",
       "       ['Transmission or Distribution Connection', 'CAA-EAS-166',\n",
       "        'Transmission',\n",
       "        'https://raw.githubusercontent.com/OSUKED/Dictionary-Datasets/main/datasets/cfd-contract-portfolio-status/datapackage.json',\n",
       "        'cfd_id', '', '10300', ''],\n",
       "       ['Transmission or Distribution Connection', 'CAA-EAS-167',\n",
       "        'Transmission',\n",
       "        'https://raw.githubusercontent.com/OSUKED/Dictionary-Datasets/main/datasets/cfd-contract-portfolio-status/datapackage.json',\n",
       "        'cfd_id', '', '10300', ''],\n",
       "       ['Transmission or Distribution Connection', 'CAA-EAS-168',\n",
       "        'Transmission',\n",
       "        'https://raw.githubusercontent.com/OSUKED/Dictionary-Datasets/main/datasets/cfd-contract-portfolio-status/datapackage.json',\n",
       "        'cfd_id', '', '10300', ''],\n",
       "       ['Strike Price (GBP/MWh)', 'CAA-EAS-166', '136.08',\n",
       "        'https://raw.githubusercontent.com/OSUKED/Dictionary-Datasets/main/datasets/cfd-strike-prices/datapackage.json',\n",
       "        'cfd_id', '', '10300', '2019'],\n",
       "       ['Strike Price (GBP/MWh)', 'CAA-EAS-168', 'NaN',\n",
       "        'https://raw.githubusercontent.com/OSUKED/Dictionary-Datasets/main/datasets/cfd-strike-prices/datapackage.json',\n",
       "        'cfd_id', '', '10300', '2019'],\n",
       "       ['Strike Price (GBP/MWh)', 'CAA-EAS-166', '139.35',\n",
       "        'https://raw.githubusercontent.com/OSUKED/Dictionary-Datasets/main/datasets/cfd-strike-prices/datapackage.json',\n",
       "        'cfd_id', '', '10300', '2020'],\n",
       "       ['Strike Price (GBP/MWh)', 'CAA-EAS-168', '139.35',\n",
       "        'https://raw.githubusercontent.com/OSUKED/Dictionary-Datasets/main/datasets/cfd-strike-prices/datapackage.json',\n",
       "        'cfd_id', '', '10300', '2020'],\n",
       "       ['Strike Price (GBP/MWh)', 'CAA-EAS-166', '141.63',\n",
       "        'https://raw.githubusercontent.com/OSUKED/Dictionary-Datasets/main/datasets/cfd-strike-prices/datapackage.json',\n",
       "        'cfd_id', '', '10300', '2021'],\n",
       "       ['Strike Price (GBP/MWh)', 'CAA-EAS-168', '141.63',\n",
       "        'https://raw.githubusercontent.com/OSUKED/Dictionary-Datasets/main/datasets/cfd-strike-prices/datapackage.json',\n",
       "        'cfd_id', '', '10300', '2021']], dtype='<U149')"
      ]
     },
     "execution_count": 34,
     "metadata": {},
     "output_type": "execute_result"
    }
   ],
   "source": [
    "test"
   ]
  },
  {
   "cell_type": "code",
   "execution_count": 33,
   "metadata": {},
   "outputs": [
    {
     "data": {
      "text/plain": [
       "'2.499'"
      ]
     },
     "execution_count": 33,
     "metadata": {},
     "output_type": "execute_result"
    }
   ],
   "source": [
    "test[test[:, 0] == \"Longitude\"][0][2]"
   ]
  },
  {
   "cell_type": "code",
   "execution_count": 23,
   "metadata": {},
   "outputs": [],
   "source": [
    "test = data[data[:, 6] == id1]"
   ]
  },
  {
   "cell_type": "code",
   "execution_count": 25,
   "metadata": {},
   "outputs": [
    {
     "data": {
      "text/plain": [
       "936"
      ]
     },
     "execution_count": 25,
     "metadata": {},
     "output_type": "execute_result"
    }
   ],
   "source": [
    "np.size(test)"
   ]
  },
  {
   "cell_type": "code",
   "execution_count": null,
   "metadata": {},
   "outputs": [],
   "source": []
  }
 ],
 "metadata": {
  "kernelspec": {
   "display_name": "Python 3.9.0 64-bit",
   "language": "python",
   "name": "python3"
  },
  "language_info": {
   "codemirror_mode": {
    "name": "ipython",
    "version": 3
   },
   "file_extension": ".py",
   "mimetype": "text/x-python",
   "name": "python",
   "nbconvert_exporter": "python",
   "pygments_lexer": "ipython3",
   "version": "3.9.0"
  },
  "orig_nbformat": 4,
  "vscode": {
   "interpreter": {
    "hash": "7ae6e476e7781e75b7650430d7084ff27ef51d41a07454bb66412cc8698bb61a"
   }
  }
 },
 "nbformat": 4,
 "nbformat_minor": 2
}
